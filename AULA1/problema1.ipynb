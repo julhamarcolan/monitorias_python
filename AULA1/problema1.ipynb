{
  "nbformat": 4,
  "nbformat_minor": 0,
  "metadata": {
    "colab": {
      "provenance": []
    },
    "kernelspec": {
      "name": "python3",
      "display_name": "Python 3"
    },
    "language_info": {
      "name": "python"
    }
  },
  "cells": [
    {
      "cell_type": "markdown",
      "source": [
        "**Project euler 1: **\n",
        "\n",
        "If we list all the natural numbers below  10 that are multiples of 3 or 5, we get 3, 5,6 and 9.\n",
        "The sum of these multiples is 23. Find the sum of all the multiples of 3 or 5 below 1000."
      ],
      "metadata": {
        "id": "HiyBas_ypi_e"
      }
    },
    {
      "cell_type": "code",
      "execution_count": null,
      "metadata": {
        "id": "yWQybLWPruCV"
      },
      "outputs": [],
      "source": [
        "def sum_3_or_5(N):\n",
        "    \"\"\"\n",
        "    Calculates the sum of all numbers less than N that are divisible by 3 or 5.\n",
        "\n",
        "    Parameters:\n",
        "        N (int): The upper limit of the range (exclusive).\n",
        "\n",
        "    Returns:\n",
        "        int: The sum of all numbers less than N that are divisible by 3 or 5.\n",
        "    \"\"\"\n",
        "    sum = 0\n",
        "    for i in range(N):  # Iterate from 0 to N-1 (exclusive)\n",
        "        if i % 3 == 0 or i % 5 == 0:  # If the number is divisible by 3 or 5\n",
        "            sum += i  # Add the number to sum\n",
        "    return sum  # Return the final sum"
      ]
    },
    {
      "cell_type": "code",
      "source": [
        "# Examples of use:\n",
        "print(sum_3_or_5(10))  # Output: 23\n",
        "print(sum_3_or_5(1000))  # Output: 45"
      ],
      "metadata": {
        "id": "y4wDIdLVpo5s",
        "outputId": "3f9f9f20-7941-4e78-dae7-9eaf17c9f498",
        "colab": {
          "base_uri": "https://localhost:8080/"
        }
      },
      "execution_count": null,
      "outputs": [
        {
          "output_type": "stream",
          "name": "stdout",
          "text": [
            "23\n",
            "233168\n"
          ]
        }
      ]
    }
  ]
}