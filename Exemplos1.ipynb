{
  "nbformat": 4,
  "nbformat_minor": 0,
  "metadata": {
    "colab": {
      "provenance": [],
      "authorship_tag": "ABX9TyOnmCLvqGi/1VnKpgh46m8N",
      "include_colab_link": true
    },
    "kernelspec": {
      "name": "python3",
      "display_name": "Python 3"
    },
    "language_info": {
      "name": "python"
    }
  },
  "cells": [
    {
      "cell_type": "markdown",
      "metadata": {
        "id": "view-in-github",
        "colab_type": "text"
      },
      "source": [
        "<a href=\"https://colab.research.google.com/github/julhamarcolan/monitorias_python/blob/main/Exemplos1.ipynb\" target=\"_parent\"><img src=\"https://colab.research.google.com/assets/colab-badge.svg\" alt=\"Open In Colab\"/></a>"
      ]
    },
    {
      "cell_type": "markdown",
      "source": [
        "**Inteiros (int)**"
      ],
      "metadata": {
        "id": "unxIboMkSDxO"
      }
    },
    {
      "cell_type": "code",
      "execution_count": null,
      "metadata": {
        "colab": {
          "base_uri": "https://localhost:8080/"
        },
        "id": "4_gODed2Ptfq",
        "outputId": "d8c918c7-04b0-4263-9bdb-b67cada81a3e"
      },
      "outputs": [
        {
          "output_type": "stream",
          "name": "stdout",
          "text": [
            "10\n",
            "-5\n"
          ]
        }
      ],
      "source": [
        "x = 10\n",
        "y = -5\n",
        "\n",
        "print(x)\n",
        "print(y)"
      ]
    },
    {
      "cell_type": "markdown",
      "source": [
        "**Números de ponto flutuante (float)**"
      ],
      "metadata": {
        "id": "-sjQPJ1uSLEJ"
      }
    },
    {
      "cell_type": "code",
      "source": [
        "pi = 3.14159\n",
        "temperatura = -15.5\n",
        "\n",
        "print(pi)\n",
        "print(temperatura)"
      ],
      "metadata": {
        "colab": {
          "base_uri": "https://localhost:8080/"
        },
        "id": "MUnevTNkSNwL",
        "outputId": "d619854b-faaa-478d-83fd-a118f76f26f6"
      },
      "execution_count": null,
      "outputs": [
        {
          "output_type": "stream",
          "name": "stdout",
          "text": [
            "3.14159\n",
            "-15.5\n"
          ]
        }
      ]
    },
    {
      "cell_type": "markdown",
      "source": [
        "**Números complexos (complex)**"
      ],
      "metadata": {
        "id": "QPxLbJ3_STqh"
      }
    },
    {
      "cell_type": "code",
      "source": [
        "z = 3 + 4j\n",
        "\n",
        "print(z)"
      ],
      "metadata": {
        "colab": {
          "base_uri": "https://localhost:8080/"
        },
        "id": "W_-gHBNQSV4J",
        "outputId": "d0edf651-e167-400a-d7fe-bfdd31aaabe4"
      },
      "execution_count": null,
      "outputs": [
        {
          "output_type": "stream",
          "name": "stdout",
          "text": [
            "(3+4j)\n"
          ]
        }
      ]
    },
    {
      "cell_type": "markdown",
      "source": [
        "**Strings (str)**"
      ],
      "metadata": {
        "id": "i0ssJVFBSZPL"
      }
    },
    {
      "cell_type": "code",
      "source": [
        "nome = \"Julha\"\n",
        "saudacao = 'Olá, mundo!'\n",
        "\n",
        "print(nome)\n",
        "print(saudacao)"
      ],
      "metadata": {
        "colab": {
          "base_uri": "https://localhost:8080/"
        },
        "id": "qDyo4W7jSbMF",
        "outputId": "2fae6467-9c21-4079-d350-6c11bf6cc976"
      },
      "execution_count": null,
      "outputs": [
        {
          "output_type": "stream",
          "name": "stdout",
          "text": [
            "Julha\n",
            "Olá, mundo!\n"
          ]
        }
      ]
    },
    {
      "cell_type": "markdown",
      "source": [
        "**Booleanos (bool)**"
      ],
      "metadata": {
        "id": "GIRchhb9SiDH"
      }
    },
    {
      "cell_type": "code",
      "source": [
        "ativo = True\n",
        "logado = False\n",
        "\n",
        "print(ativo)\n",
        "print(logado)"
      ],
      "metadata": {
        "colab": {
          "base_uri": "https://localhost:8080/"
        },
        "id": "sZay-uouShe9",
        "outputId": "42f0a331-45f7-4ab0-847b-60030ad963a9"
      },
      "execution_count": null,
      "outputs": [
        {
          "output_type": "stream",
          "name": "stdout",
          "text": [
            "True\n",
            "False\n"
          ]
        }
      ]
    },
    {
      "cell_type": "code",
      "source": [
        "condicao = True\n",
        "\n",
        "if condicao:\n",
        "    print(\"True\")\n",
        "else:\n",
        "    print(\"False\")"
      ],
      "metadata": {
        "colab": {
          "base_uri": "https://localhost:8080/"
        },
        "id": "5ZyUAlHQStNT",
        "outputId": "d72f73d5-2c9a-4110-d00f-ea3641c69316"
      },
      "execution_count": null,
      "outputs": [
        {
          "output_type": "stream",
          "name": "stdout",
          "text": [
            "True\n"
          ]
        }
      ]
    },
    {
      "cell_type": "markdown",
      "source": [
        "**Listas (list)**\n",
        "\n",
        "[Como manipular listas em Python!](https://)\n"
      ],
      "metadata": {
        "id": "Jq0EHd8PS-pn"
      }
    },
    {
      "cell_type": "code",
      "source": [
        "frutas = [\"maçã\", \"banana\", \"laranja\"]\n",
        "numeros = [1, 2, 3, 4]\n",
        "\n",
        "print(frutas)\n",
        "print(frutas[0])\n",
        "\n",
        "print(numeros)\n",
        "print(numeros[2])"
      ],
      "metadata": {
        "colab": {
          "base_uri": "https://localhost:8080/"
        },
        "id": "aktgcxGZS-cD",
        "outputId": "3970d3a2-5b5a-4fde-ac11-497b8a5e6196"
      },
      "execution_count": null,
      "outputs": [
        {
          "output_type": "stream",
          "name": "stdout",
          "text": [
            "['maçã', 'banana', 'laranja']\n",
            "maçã\n",
            "[1, 2, 3, 4]\n",
            "3\n"
          ]
        }
      ]
    },
    {
      "cell_type": "markdown",
      "source": [
        "**Tuplas (tuple)**"
      ],
      "metadata": {
        "id": "_Vj-j7fmTRpF"
      }
    },
    {
      "cell_type": "code",
      "source": [
        "coordenadas = (10.5, 20.7)\n",
        "cores = (\"vermelho\", \"verde\", \"azul\")\n",
        "\n",
        "print(coordenadas)\n",
        "print(cores)"
      ],
      "metadata": {
        "colab": {
          "base_uri": "https://localhost:8080/"
        },
        "id": "2Xrm5SssTV2t",
        "outputId": "f6d38310-fd36-462c-dad7-e205c2e20bf0"
      },
      "execution_count": null,
      "outputs": [
        {
          "output_type": "stream",
          "name": "stdout",
          "text": [
            "(10.5, 20.7)\n",
            "('vermelho', 'verde', 'azul')\n"
          ]
        }
      ]
    },
    {
      "cell_type": "markdown",
      "source": [
        "**Dicionários (dict)**"
      ],
      "metadata": {
        "id": "px4N78UoTqwX"
      }
    },
    {
      "cell_type": "code",
      "source": [
        "aluno = {\"nome\": \"Carlos\", \"idade\": 22, \"curso\": \"Engenharia\"}\n",
        "\n",
        "nome = aluno[\"nome\"]\n",
        "print(nome)  # Saída: Carlos\n",
        "\n",
        "idade = aluno.get(\"idade\")\n",
        "print(idade)  # Saída: 22\n",
        "\n",
        "chaves = aluno.keys()\n",
        "print(chaves)  # Saída: dict_keys(['nome', 'idade', 'curso'])\n",
        "\n",
        "valores = aluno.values()\n",
        "print(valores)  # Saída: dict_values(['Carlos', 22, 'Engenharia'])\n",
        "\n",
        "itens = aluno.items()\n",
        "print(itens)  # Saída: dict_items([('nome', 'Carlos'), ('idade', 22), ('curso', 'Engenharia')])\n"
      ],
      "metadata": {
        "colab": {
          "base_uri": "https://localhost:8080/"
        },
        "id": "Tj59a7jXTsms",
        "outputId": "296f6008-d28a-4364-964d-cc803bdf2ca4"
      },
      "execution_count": null,
      "outputs": [
        {
          "output_type": "stream",
          "name": "stdout",
          "text": [
            "Carlos\n",
            "22\n",
            "dict_keys(['nome', 'idade', 'curso'])\n",
            "dict_values(['Carlos', 22, 'Engenharia'])\n",
            "dict_items([('nome', 'Carlos'), ('idade', 22), ('curso', 'Engenharia')])\n"
          ]
        }
      ]
    },
    {
      "cell_type": "markdown",
      "source": [
        "**Conjuntos (set)**"
      ],
      "metadata": {
        "id": "KKMhxurWTykB"
      }
    },
    {
      "cell_type": "code",
      "source": [
        "numeros = {1, 2, 3, 4, 4, 5}  # O número 4 será armazenado apenas uma vez\n",
        "print(numeros)"
      ],
      "metadata": {
        "colab": {
          "base_uri": "https://localhost:8080/"
        },
        "id": "R8f6RuabTzgH",
        "outputId": "4c59ff3c-1542-4054-a656-f7100248a27d"
      },
      "execution_count": null,
      "outputs": [
        {
          "output_type": "stream",
          "name": "stdout",
          "text": [
            "{1, 2, 3, 4, 5}\n"
          ]
        }
      ]
    },
    {
      "cell_type": "markdown",
      "source": [],
      "metadata": {
        "id": "GAtzLj8kT4O5"
      }
    }
  ]
}